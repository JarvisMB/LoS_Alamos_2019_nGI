{
 "cells": [
  {
   "cell_type": "code",
   "execution_count": 8,
   "metadata": {
    "collapsed": false
   },
   "outputs": [
    {
     "data": {
      "text/plain": [
       "u'C:\\\\Users\\\\oin67168\\\\Desktop\\\\TaPy-0.1'"
      ]
     },
     "execution_count": 8,
     "metadata": {},
     "output_type": "execute_result"
    }
   ],
   "source": [
    "import glob\n",
    "#import matplotlib.pyplot as plt\n",
    "%pwd"
   ]
  },
  {
   "cell_type": "code",
   "execution_count": 24,
   "metadata": {
    "collapsed": false,
    "scrolled": false
   },
   "outputs": [
    {
     "data": {
      "text/plain": [
       "0.16981132075471697"
      ]
     },
     "execution_count": 24,
     "metadata": {},
     "output_type": "execute_result"
    }
   ],
   "source": [
    "(31.-22.)/(31.+22)"
   ]
  },
  {
   "cell_type": "code",
   "execution_count": 34,
   "metadata": {
    "collapsed": false
   },
   "outputs": [
    {
     "name": "stdout",
     "output_type": "stream",
     "text": [
      "C:\\Users\\imat\\Desktop\\PSI_ToF_nGI\\009_OB_optimized\\OB_opt_setup_exp_30min_night1_G0pos_0.0\\\n",
      "0.0\n",
      "Images\n",
      "5961\n"
     ]
    }
   ],
   "source": [
    "#%matplotlib inline\n",
    "\n",
    "# Running average parameters\n",
    "\n",
    "run_avg_size = 150  # How many images should be put together\n",
    "run_avg_step = 50  # Stepsize for running average\n",
    "\n",
    "# Define directories for the raw image normalisation\n",
    "\n",
    "raw = 'C:\\\\Users\\\\imat\\\\Desktop\\\\PSI_ToF_nGI\\\\009_OB_optimized' # folder where all the subfolders are in\n",
    "\n",
    "folder_list = glob.glob(raw+'\\\\*\\\\')\n",
    "sorted(folder_list)\n",
    "print(folder_list[0])\n",
    "print(folder_list[0][-4:-1])\n",
    "\n",
    "# Folder with shutter count files\n",
    "# shut_file = '/Users/harti/Documents/data_analysisV20/shutter_files_data2/'#shutter_files/'#_jan/'\n",
    "\n",
    "# Define directory for corrected images\n",
    "summed_im = 'C:\\\\Users\\\\imat\\\\Desktop\\\\PSI_ToF_nGI\\\\009_OB_optimized_sum_2\\\\'#/Users/harti/switchdrive/IMAT_experiment/tmp_data_sum'\n",
    "# Check how many fits files there are in the directories\n",
    "\n",
    "filelist_raw = glob.glob(folder_list[0]+'*.fits')\n",
    "\n",
    "sorted(filelist_raw)\n",
    "\n",
    "index_sum_raw = [i for i, s in enumerate(filelist_raw) if 'Summed' in s]\n",
    "\n",
    "print('Images')\n",
    "print(len(filelist_raw))"
   ]
  },
  {
   "cell_type": "code",
   "execution_count": 35,
   "metadata": {
    "collapsed": true
   },
   "outputs": [],
   "source": [
    "# import pyfits\n",
    "from astropy.io import fits as pyfits\n",
    "\n",
    "import os\n",
    "import gc\n",
    "import numpy as np\n",
    "from shutil import copyfile"
   ]
  },
  {
   "cell_type": "code",
   "execution_count": 36,
   "metadata": {
    "collapsed": false
   },
   "outputs": [
    {
     "ename": "KeyboardInterrupt",
     "evalue": "",
     "output_type": "error",
     "traceback": [
      "\u001b[1;31m---------------------------------------------------------------------------\u001b[0m",
      "\u001b[1;31mKeyboardInterrupt\u001b[0m                         Traceback (most recent call last)",
      "\u001b[1;32m<ipython-input-36-9f7bc946f1b3>\u001b[0m in \u001b[0;36m<module>\u001b[1;34m()\u001b[0m\n\u001b[1;32m----> 1\u001b[1;33m \u001b[0mget_ipython\u001b[0m\u001b[1;33m(\u001b[0m\u001b[1;33m)\u001b[0m\u001b[1;33m.\u001b[0m\u001b[0mrun_cell_magic\u001b[0m\u001b[1;33m(\u001b[0m\u001b[1;34mu'time'\u001b[0m\u001b[1;33m,\u001b[0m \u001b[1;34mu''\u001b[0m\u001b[1;33m,\u001b[0m \u001b[1;34mu'for p in range(0,len(folder_list)):\\n    \\n    #print(type(p))\\n    gc.collect()\\n    direct = summed_im + \\'sum_\\' + folder_list[p][-4:-1].zfill(4)\\n    os.makedirs(direct)\\n    filelist_raw = glob.glob(folder_list[p]+\\'*.fits\\')\\n    \\n    #txtf = shut_file + \\'Scan\\'+folder_list[p][-4:-1] +\\'_ShutterCount.txt\\' # for january\\n    #txtf = shut_file + \\'Image\\'+folder_list[p][-4:-1] +\\'_ShutterCount.txt\\' \\n    #txtf_new = direct + \\'/Scan\\'+folder_list[p][-4:-1] +\\'_ShutterCount.txt\\'# for january\\n    #txtf_new = direct + \\'/Image\\'+folder_list[p][-4:-1] +\\'_ShutterCount.txt\\'\\n    #f = open(txtf_new, \\'w+\\')\\n    \\n    #copyfile(txtf,txtf_new)\\n    \\n    iii = 0    # Start index for the saved files\\n    for i in range(0,len(filelist_raw)-1-run_avg_size,run_avg_step):    # Iterate through the images with stepsize run_avg_step\\n        tmpim_raw_ex = pyfits.getdata(filelist_raw[0])\\n        tmpim_raw = np.zeros(tmpim_raw_ex.shape)\\n\\n        for ii in range(i,i+run_avg_size):                   # Sum of \"run_avg_size\" number of images\\n            tmpim_raw_2 = pyfits.getdata(filelist_raw[ii])\\n            \\n\\n            tmpim_raw = tmpim_raw+tmpim_raw_2                    # Do the actual summation\\n\\n        hdu_raw = pyfits.PrimaryHDU(tmpim_raw)                  # Save the images\\n        \\n        #os.makedirs(direct)\\n        hdu_raw.writeto(direct + \\'/0\\' + folder_list[p][-4:-1] +\\'_\\' + str(run_avg_size)+ \\'_stepsize_\\' + str(run_avg_step) +\\'_\\'+ str(iii).zfill(4) + \\'.fits\\')\\n\\n        \\n        iii +=1            # Increase index of saved files\\n        \\n        '\u001b[0m\u001b[1;33m)\u001b[0m\u001b[1;33m\u001b[0m\u001b[0m\n\u001b[0m",
      "\u001b[1;32mC:\\local\\Anaconda\\lib\\site-packages\\IPython\\core\\interactiveshell.pyc\u001b[0m in \u001b[0;36mrun_cell_magic\u001b[1;34m(self, magic_name, line, cell)\u001b[0m\n\u001b[0;32m   2259\u001b[0m             \u001b[0mmagic_arg_s\u001b[0m \u001b[1;33m=\u001b[0m \u001b[0mself\u001b[0m\u001b[1;33m.\u001b[0m\u001b[0mvar_expand\u001b[0m\u001b[1;33m(\u001b[0m\u001b[0mline\u001b[0m\u001b[1;33m,\u001b[0m \u001b[0mstack_depth\u001b[0m\u001b[1;33m)\u001b[0m\u001b[1;33m\u001b[0m\u001b[0m\n\u001b[0;32m   2260\u001b[0m             \u001b[1;32mwith\u001b[0m \u001b[0mself\u001b[0m\u001b[1;33m.\u001b[0m\u001b[0mbuiltin_trap\u001b[0m\u001b[1;33m:\u001b[0m\u001b[1;33m\u001b[0m\u001b[0m\n\u001b[1;32m-> 2261\u001b[1;33m                 \u001b[0mresult\u001b[0m \u001b[1;33m=\u001b[0m \u001b[0mfn\u001b[0m\u001b[1;33m(\u001b[0m\u001b[0mmagic_arg_s\u001b[0m\u001b[1;33m,\u001b[0m \u001b[0mcell\u001b[0m\u001b[1;33m)\u001b[0m\u001b[1;33m\u001b[0m\u001b[0m\n\u001b[0m\u001b[0;32m   2262\u001b[0m             \u001b[1;32mreturn\u001b[0m \u001b[0mresult\u001b[0m\u001b[1;33m\u001b[0m\u001b[0m\n\u001b[0;32m   2263\u001b[0m \u001b[1;33m\u001b[0m\u001b[0m\n",
      "\u001b[1;32mC:\\local\\Anaconda\\lib\\site-packages\\IPython\\core\\magics\\execution.pyc\u001b[0m in \u001b[0;36mtime\u001b[1;34m(self, line, cell, local_ns)\u001b[0m\n",
      "\u001b[1;32mC:\\local\\Anaconda\\lib\\site-packages\\IPython\\core\\magic.pyc\u001b[0m in \u001b[0;36m<lambda>\u001b[1;34m(f, *a, **k)\u001b[0m\n\u001b[0;32m    191\u001b[0m     \u001b[1;31m# but it's overkill for just that one bit of state.\u001b[0m\u001b[1;33m\u001b[0m\u001b[1;33m\u001b[0m\u001b[0m\n\u001b[0;32m    192\u001b[0m     \u001b[1;32mdef\u001b[0m \u001b[0mmagic_deco\u001b[0m\u001b[1;33m(\u001b[0m\u001b[0marg\u001b[0m\u001b[1;33m)\u001b[0m\u001b[1;33m:\u001b[0m\u001b[1;33m\u001b[0m\u001b[0m\n\u001b[1;32m--> 193\u001b[1;33m         \u001b[0mcall\u001b[0m \u001b[1;33m=\u001b[0m \u001b[1;32mlambda\u001b[0m \u001b[0mf\u001b[0m\u001b[1;33m,\u001b[0m \u001b[1;33m*\u001b[0m\u001b[0ma\u001b[0m\u001b[1;33m,\u001b[0m \u001b[1;33m**\u001b[0m\u001b[0mk\u001b[0m\u001b[1;33m:\u001b[0m \u001b[0mf\u001b[0m\u001b[1;33m(\u001b[0m\u001b[1;33m*\u001b[0m\u001b[0ma\u001b[0m\u001b[1;33m,\u001b[0m \u001b[1;33m**\u001b[0m\u001b[0mk\u001b[0m\u001b[1;33m)\u001b[0m\u001b[1;33m\u001b[0m\u001b[0m\n\u001b[0m\u001b[0;32m    194\u001b[0m \u001b[1;33m\u001b[0m\u001b[0m\n\u001b[0;32m    195\u001b[0m         \u001b[1;32mif\u001b[0m \u001b[0mcallable\u001b[0m\u001b[1;33m(\u001b[0m\u001b[0marg\u001b[0m\u001b[1;33m)\u001b[0m\u001b[1;33m:\u001b[0m\u001b[1;33m\u001b[0m\u001b[0m\n",
      "\u001b[1;32mC:\\local\\Anaconda\\lib\\site-packages\\IPython\\core\\magics\\execution.pyc\u001b[0m in \u001b[0;36mtime\u001b[1;34m(self, line, cell, local_ns)\u001b[0m\n\u001b[0;32m   1164\u001b[0m         \u001b[1;32melse\u001b[0m\u001b[1;33m:\u001b[0m\u001b[1;33m\u001b[0m\u001b[0m\n\u001b[0;32m   1165\u001b[0m             \u001b[0mst\u001b[0m \u001b[1;33m=\u001b[0m \u001b[0mclock2\u001b[0m\u001b[1;33m(\u001b[0m\u001b[1;33m)\u001b[0m\u001b[1;33m\u001b[0m\u001b[0m\n\u001b[1;32m-> 1166\u001b[1;33m             \u001b[1;32mexec\u001b[0m\u001b[1;33m(\u001b[0m\u001b[0mcode\u001b[0m\u001b[1;33m,\u001b[0m \u001b[0mglob\u001b[0m\u001b[1;33m,\u001b[0m \u001b[0mlocal_ns\u001b[0m\u001b[1;33m)\u001b[0m\u001b[1;33m\u001b[0m\u001b[0m\n\u001b[0m\u001b[0;32m   1167\u001b[0m             \u001b[0mend\u001b[0m \u001b[1;33m=\u001b[0m \u001b[0mclock2\u001b[0m\u001b[1;33m(\u001b[0m\u001b[1;33m)\u001b[0m\u001b[1;33m\u001b[0m\u001b[0m\n\u001b[0;32m   1168\u001b[0m             \u001b[0mout\u001b[0m \u001b[1;33m=\u001b[0m \u001b[0mNone\u001b[0m\u001b[1;33m\u001b[0m\u001b[0m\n",
      "\u001b[1;32m<timed exec>\u001b[0m in \u001b[0;36m<module>\u001b[1;34m()\u001b[0m\n",
      "\u001b[1;31mKeyboardInterrupt\u001b[0m: "
     ]
    }
   ],
   "source": [
    "%%time\n",
    "for p in range(0,len(folder_list)):\n",
    "    \n",
    "    #print(type(p))\n",
    "    gc.collect()\n",
    "    direct = summed_im + 'sum_' + folder_list[p][-4:-1].zfill(4)\n",
    "    os.makedirs(direct)\n",
    "    filelist_raw = glob.glob(folder_list[p]+'*.fits')\n",
    "    \n",
    "    #txtf = shut_file + 'Scan'+folder_list[p][-4:-1] +'_ShutterCount.txt' # for january\n",
    "    #txtf = shut_file + 'Image'+folder_list[p][-4:-1] +'_ShutterCount.txt' \n",
    "    #txtf_new = direct + '/Scan'+folder_list[p][-4:-1] +'_ShutterCount.txt'# for january\n",
    "    #txtf_new = direct + '/Image'+folder_list[p][-4:-1] +'_ShutterCount.txt'\n",
    "    #f = open(txtf_new, 'w+')\n",
    "    \n",
    "    #copyfile(txtf,txtf_new)\n",
    "    \n",
    "    iii = 0    # Start index for the saved files\n",
    "    for i in range(0,len(filelist_raw)-1-run_avg_size,run_avg_step):    # Iterate through the images with stepsize run_avg_step\n",
    "        tmpim_raw_ex = pyfits.getdata(filelist_raw[0])\n",
    "        tmpim_raw = np.zeros(tmpim_raw_ex.shape)\n",
    "\n",
    "        for ii in range(i,i+run_avg_size):                   # Sum of \"run_avg_size\" number of images\n",
    "            tmpim_raw_2 = pyfits.getdata(filelist_raw[ii])\n",
    "            \n",
    "\n",
    "            tmpim_raw = tmpim_raw+tmpim_raw_2                    # Do the actual summation\n",
    "\n",
    "        hdu_raw = pyfits.PrimaryHDU(tmpim_raw)                  # Save the images\n",
    "        \n",
    "        #os.makedirs(direct)\n",
    "        hdu_raw.writeto(direct + '/0' + folder_list[p][-4:-1] +'_' + str(run_avg_size)+ '_stepsize_' + str(run_avg_step) +'_'+ str(iii).zfill(4) + '.fits')\n",
    "\n",
    "        \n",
    "        iii +=1            # Increase index of saved files\n",
    "        \n",
    "        "
   ]
  },
  {
   "cell_type": "code",
   "execution_count": 27,
   "metadata": {
    "collapsed": true
   },
   "outputs": [],
   "source": [
    "import pandas as pd"
   ]
  },
  {
   "cell_type": "code",
   "execution_count": null,
   "metadata": {
    "collapsed": true
   },
   "outputs": [],
   "source": []
  }
 ],
 "metadata": {
  "kernelspec": {
   "display_name": "Python 2",
   "language": "python",
   "name": "python2"
  },
  "language_info": {
   "codemirror_mode": {
    "name": "ipython",
    "version": 2
   },
   "file_extension": ".py",
   "mimetype": "text/x-python",
   "name": "python",
   "nbconvert_exporter": "python",
   "pygments_lexer": "ipython2",
   "version": "2.7.9"
  },
  "varInspector": {
   "cols": {
    "lenName": 16,
    "lenType": 16,
    "lenVar": 40
   },
   "kernels_config": {
    "python": {
     "delete_cmd_postfix": "",
     "delete_cmd_prefix": "del ",
     "library": "var_list.py",
     "varRefreshCmd": "print(var_dic_list())"
    },
    "r": {
     "delete_cmd_postfix": ") ",
     "delete_cmd_prefix": "rm(",
     "library": "var_list.r",
     "varRefreshCmd": "cat(var_dic_list()) "
    }
   },
   "position": {
    "height": "855px",
    "left": "1890px",
    "right": "20px",
    "top": "108px",
    "width": "556px"
   },
   "types_to_exclude": [
    "module",
    "function",
    "builtin_function_or_method",
    "instance",
    "_Feature"
   ],
   "window_display": true
  }
 },
 "nbformat": 4,
 "nbformat_minor": 1
}
